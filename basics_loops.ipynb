{
  "cells": [
    {
      "cell_type": "markdown",
      "metadata": {
        "id": "view-in-github",
        "colab_type": "text"
      },
      "source": [
        "<a href=\"https://colab.research.google.com/github/pallavi160425/python_mini_tasks/blob/main/basics_loops.ipynb\" target=\"_parent\"><img src=\"https://colab.research.google.com/assets/colab-badge.svg\" alt=\"Open In Colab\"/></a>"
      ]
    },
    {
      "cell_type": "raw",
      "id": "ff1329e3-b58a-420f-92d8-13064d91b5e4",
      "metadata": {
        "id": "ff1329e3-b58a-420f-92d8-13064d91b5e4"
      },
      "source": [
        "## To calculate the sum of all the odd numbers within the given range.\n",
        "# range  = 1 to 25\n",
        "# if odd numbers count>0 print count\n",
        "# else print no odd numbers"
      ]
    },
    {
      "cell_type": "code",
      "execution_count": null,
      "id": "6dac77ac-8bae-4b6b-86a3-8e5465e5082e",
      "metadata": {
        "id": "6dac77ac-8bae-4b6b-86a3-8e5465e5082e",
        "colab": {
          "base_uri": "https://localhost:8080/"
        },
        "outputId": "5a0f55a7-02b9-4d6e-860a-87fe4e0c7f4e"
      },
      "outputs": [
        {
          "output_type": "stream",
          "name": "stdout",
          "text": [
            "144\n"
          ]
        }
      ],
      "source": [
        "num=26\n",
        "sum=0\n",
        "for i in range(1,25):\n",
        "  if i%2!=0:\n",
        "   sum=sum+i\n",
        "print(sum)\n",
        "\n",
        "\n",
        "\n",
        "\n",
        "\n",
        "\n",
        "\n",
        "\n",
        "\n",
        "\n",
        "\n",
        "\n",
        "\n",
        "\n",
        "\n"
      ]
    },
    {
      "cell_type": "code",
      "source": [
        "li = [5,3,6,3,12,6,8,2,4,6,3,1,4,7,4,65,76,3,2,65,7]\n",
        "for i in li:\n",
        "  print(i)"
      ],
      "metadata": {
        "colab": {
          "base_uri": "https://localhost:8080/"
        },
        "id": "6W0vdg13bLhz",
        "outputId": "3f390c94-2da1-4d94-d6f5-736ded68b9c1"
      },
      "id": "6W0vdg13bLhz",
      "execution_count": null,
      "outputs": [
        {
          "output_type": "stream",
          "name": "stdout",
          "text": [
            "5\n",
            "3\n",
            "6\n",
            "3\n",
            "12\n",
            "6\n",
            "8\n",
            "2\n",
            "4\n",
            "6\n",
            "3\n",
            "1\n",
            "4\n",
            "7\n",
            "4\n",
            "65\n",
            "76\n",
            "3\n",
            "2\n",
            "65\n",
            "7\n"
          ]
        }
      ]
    },
    {
      "cell_type": "code",
      "source": [
        "# print all numbers in this list\n",
        "for i in li:\n",
        "  print(i)"
      ],
      "metadata": {
        "colab": {
          "base_uri": "https://localhost:8080/"
        },
        "id": "0QdebEVrb0lK",
        "outputId": "06f0ffd1-e16a-413c-fa08-be00ca0e681b"
      },
      "id": "0QdebEVrb0lK",
      "execution_count": null,
      "outputs": [
        {
          "output_type": "stream",
          "name": "stdout",
          "text": [
            "5\n",
            "3\n",
            "6\n",
            "3\n",
            "12\n",
            "6\n",
            "8\n",
            "2\n",
            "4\n",
            "6\n",
            "3\n",
            "1\n",
            "4\n",
            "7\n",
            "4\n",
            "65\n",
            "76\n",
            "3\n",
            "2\n",
            "65\n",
            "7\n"
          ]
        }
      ]
    },
    {
      "cell_type": "code",
      "source": [
        "# print all numbers which r greater than 20\n",
        "for i in li:\n",
        "  if i>20:\n",
        "    print(\"greater than 20\")\n",
        "  else:\n",
        "    print('invalid')\n",
        "    print(i)\n"
      ],
      "metadata": {
        "colab": {
          "base_uri": "https://localhost:8080/"
        },
        "id": "QQ9gsvjPbLvy",
        "outputId": "b6bedbe4-8920-4f46-a8c3-97b5aaa580b7"
      },
      "id": "QQ9gsvjPbLvy",
      "execution_count": null,
      "outputs": [
        {
          "output_type": "stream",
          "name": "stdout",
          "text": [
            "invalid\n",
            "5\n",
            "invalid\n",
            "3\n",
            "invalid\n",
            "6\n",
            "invalid\n",
            "3\n",
            "invalid\n",
            "12\n",
            "invalid\n",
            "6\n",
            "invalid\n",
            "8\n",
            "invalid\n",
            "2\n",
            "invalid\n",
            "4\n",
            "invalid\n",
            "6\n",
            "invalid\n",
            "3\n",
            "invalid\n",
            "1\n",
            "invalid\n",
            "4\n",
            "invalid\n",
            "7\n",
            "invalid\n",
            "4\n",
            "greater than 20\n",
            "greater than 20\n",
            "invalid\n",
            "3\n",
            "invalid\n",
            "2\n",
            "greater than 20\n",
            "invalid\n",
            "7\n"
          ]
        }
      ]
    },
    {
      "cell_type": "code",
      "source": [
        "#print all numbers which are lesser than 15\n",
        "for i in li:\n",
        "  if i<15:\n",
        "    print('less than 15')\n",
        "  else:\n",
        "    print('invalid')\n",
        "    print(i)"
      ],
      "metadata": {
        "colab": {
          "base_uri": "https://localhost:8080/"
        },
        "id": "pl09IwaDbMJf",
        "outputId": "adfcf346-fad3-4fa1-dff3-9ad2cf5c448b"
      },
      "id": "pl09IwaDbMJf",
      "execution_count": null,
      "outputs": [
        {
          "output_type": "stream",
          "name": "stdout",
          "text": [
            "less than 15\n",
            "less than 15\n",
            "less than 15\n",
            "less than 15\n",
            "less than 15\n",
            "less than 15\n",
            "less than 15\n",
            "less than 15\n",
            "less than 15\n",
            "less than 15\n",
            "less than 15\n",
            "less than 15\n",
            "less than 15\n",
            "less than 15\n",
            "less than 15\n",
            "invalid\n",
            "65\n",
            "invalid\n",
            "76\n",
            "less than 15\n",
            "less than 15\n",
            "invalid\n",
            "65\n",
            "less than 15\n"
          ]
        }
      ]
    },
    {
      "cell_type": "code",
      "source": [
        "# find the sum of all numbers which are lesser than 10\n",
        "sum=0\n",
        "for i in li:\n",
        "  if i<10:\n",
        "    print('less than 10')\n",
        "    sum=sum+i\n",
        "  else:\n",
        "    print('invalid')\n",
        "print(sum,'is the total sum of less than 10')\n",
        "\n",
        "\n",
        "\n",
        "\n",
        "\n",
        "\n"
      ],
      "metadata": {
        "colab": {
          "base_uri": "https://localhost:8080/"
        },
        "id": "j6sfI8TrbMR1",
        "outputId": "47b1c79d-9c67-4a75-91a9-386fe05b1404"
      },
      "id": "j6sfI8TrbMR1",
      "execution_count": null,
      "outputs": [
        {
          "output_type": "stream",
          "name": "stdout",
          "text": [
            "less than 10\n",
            "less than 10\n",
            "less than 10\n",
            "less than 10\n",
            "invalid\n",
            "less than 10\n",
            "less than 10\n",
            "less than 10\n",
            "less than 10\n",
            "less than 10\n",
            "less than 10\n",
            "less than 10\n",
            "less than 10\n",
            "less than 10\n",
            "less than 10\n",
            "invalid\n",
            "invalid\n",
            "less than 10\n",
            "less than 10\n",
            "invalid\n",
            "less than 10\n",
            "74 is the total sum of less than 10\n"
          ]
        }
      ]
    },
    {
      "cell_type": "code",
      "source": [
        "\n"
      ],
      "metadata": {
        "id": "V8mgxdA6btt0"
      },
      "id": "V8mgxdA6btt0",
      "execution_count": null,
      "outputs": []
    },
    {
      "cell_type": "code",
      "source": [
        "n = 20\n",
        "import math\n",
        "area = (1/4)*((math.sqrt(3))*(n**2))\n",
        "print(area)"
      ],
      "metadata": {
        "id": "ywbueo2Fbt5m",
        "colab": {
          "base_uri": "https://localhost:8080/"
        },
        "outputId": "5df2b230-649c-4d27-f9e6-1e4dfa8345b8"
      },
      "id": "ywbueo2Fbt5m",
      "execution_count": null,
      "outputs": [
        {
          "output_type": "stream",
          "name": "stdout",
          "text": [
            "173.20508075688772\n"
          ]
        }
      ]
    },
    {
      "cell_type": "code",
      "execution_count": null,
      "id": "5bf70ca0-1f24-4261-a625-03ee4ce1b485",
      "metadata": {
        "id": "5bf70ca0-1f24-4261-a625-03ee4ce1b485"
      },
      "outputs": [],
      "source": []
    },
    {
      "cell_type": "code",
      "execution_count": null,
      "id": "54bf5258-61d6-4542-85a9-a5f2f6e6a8e1",
      "metadata": {
        "id": "54bf5258-61d6-4542-85a9-a5f2f6e6a8e1"
      },
      "outputs": [],
      "source": []
    },
    {
      "cell_type": "code",
      "execution_count": null,
      "id": "7b07de82-8c25-493a-80b3-719857538191",
      "metadata": {
        "id": "7b07de82-8c25-493a-80b3-719857538191"
      },
      "outputs": [],
      "source": []
    },
    {
      "cell_type": "code",
      "execution_count": null,
      "id": "84e0b897-9852-4b6d-944d-8ef2d652748b",
      "metadata": {
        "id": "84e0b897-9852-4b6d-944d-8ef2d652748b"
      },
      "outputs": [],
      "source": []
    },
    {
      "cell_type": "code",
      "execution_count": null,
      "id": "7d1460a6-aefc-411c-9ff9-e901aa024ff3",
      "metadata": {
        "id": "7d1460a6-aefc-411c-9ff9-e901aa024ff3"
      },
      "outputs": [],
      "source": []
    },
    {
      "cell_type": "raw",
      "id": "9833b74c-421f-430a-9ce4-4245eb8c1cc7",
      "metadata": {
        "id": "9833b74c-421f-430a-9ce4-4245eb8c1cc7"
      },
      "source": [
        "# Print the values from N to 1 in a separate line.\n",
        "# n = 10 t0 1\n",
        "\n",
        "# o/p : 10\n",
        "         9\n",
        "         8\n",
        "         7\n",
        "         '\n",
        "         '\n",
        "         1\n"
      ]
    },
    {
      "cell_type": "code",
      "execution_count": null,
      "id": "2fdbc785-f096-4e08-81d6-0ff99af5eb56",
      "metadata": {
        "id": "2fdbc785-f096-4e08-81d6-0ff99af5eb56",
        "colab": {
          "base_uri": "https://localhost:8080/"
        },
        "outputId": "460297a6-dd1b-438d-e7b8-6a6c5c51df5f"
      },
      "outputs": [
        {
          "output_type": "stream",
          "name": "stdout",
          "text": [
            "Enter the input here :15\n",
            "15\n",
            "14\n",
            "13\n",
            "12\n",
            "11\n",
            "10\n",
            "9\n",
            "8\n",
            "7\n",
            "6\n",
            "5\n",
            "4\n",
            "3\n",
            "2\n"
          ]
        }
      ],
      "source": [
        "\n",
        "\n",
        "N = int(input(\"Enter the input here :\"))\n",
        "\n",
        "for i in range(N,1,-1):\n",
        "  print(i)"
      ]
    },
    {
      "cell_type": "code",
      "execution_count": null,
      "id": "666f4c3c-7647-4462-90b9-4d77984e603b",
      "metadata": {
        "id": "666f4c3c-7647-4462-90b9-4d77984e603b",
        "colab": {
          "base_uri": "https://localhost:8080/"
        },
        "outputId": "50616e72-f1b6-4e73-86a7-59ee8aa710d5"
      },
      "outputs": [
        {
          "output_type": "stream",
          "name": "stdout",
          "text": [
            "20\n",
            "20\n",
            "19\n",
            "18\n",
            "17\n",
            "16\n",
            "15\n",
            "14\n",
            "13\n",
            "12\n",
            "11\n",
            "10\n",
            "9\n",
            "8\n",
            "7\n",
            "6\n",
            "5\n",
            "4\n",
            "3\n",
            "2\n"
          ]
        }
      ],
      "source": [
        "p=int(input())\n",
        "for i in range(p,1,-1):\n",
        "  print(i)"
      ]
    },
    {
      "cell_type": "code",
      "source": [
        "k=int(input())\n",
        "for i in range(1,k+1,3):\n",
        "  print(i)\n"
      ],
      "metadata": {
        "colab": {
          "base_uri": "https://localhost:8080/"
        },
        "id": "phgU5fTroGnW",
        "outputId": "10458c67-a453-43de-8bb5-70c893b46682"
      },
      "id": "phgU5fTroGnW",
      "execution_count": null,
      "outputs": [
        {
          "output_type": "stream",
          "name": "stdout",
          "text": [
            "20\n",
            "1\n",
            "4\n",
            "7\n",
            "10\n",
            "13\n",
            "16\n",
            "19\n"
          ]
        }
      ]
    },
    {
      "cell_type": "code",
      "execution_count": null,
      "id": "fda73df5-8b35-4b5e-8118-44945b0201f4",
      "metadata": {
        "id": "fda73df5-8b35-4b5e-8118-44945b0201f4"
      },
      "outputs": [],
      "source": []
    },
    {
      "cell_type": "code",
      "execution_count": null,
      "id": "6ee6bb2c-525b-4b06-aa5b-751ffb5c34b1",
      "metadata": {
        "id": "6ee6bb2c-525b-4b06-aa5b-751ffb5c34b1"
      },
      "outputs": [],
      "source": []
    },
    {
      "cell_type": "code",
      "execution_count": null,
      "id": "9bd9df08-64ca-4b4b-bedf-bdd2ed1c7be7",
      "metadata": {
        "id": "9bd9df08-64ca-4b4b-bedf-bdd2ed1c7be7"
      },
      "outputs": [],
      "source": []
    },
    {
      "cell_type": "raw",
      "id": "d491c11d-294f-4fd6-935a-73858ce040a7",
      "metadata": {
        "id": "d491c11d-294f-4fd6-935a-73858ce040a7"
      },
      "source": [
        "# find the length of character without using len Function\n",
        "#I/P   : \"Python\"\n",
        "# O/P  : 6"
      ]
    },
    {
      "cell_type": "code",
      "execution_count": null,
      "id": "23f66d05-247d-4302-b0bb-54f6ed8e2fc7",
      "metadata": {
        "id": "23f66d05-247d-4302-b0bb-54f6ed8e2fc7",
        "colab": {
          "base_uri": "https://localhost:8080/"
        },
        "outputId": "77eafa76-2ab7-4fe6-ebb8-5759fd098e83"
      },
      "outputs": [
        {
          "output_type": "stream",
          "name": "stdout",
          "text": [
            "p is the character\n",
            "y is the character\n",
            "t is the character\n",
            "h is the character\n",
            "o is the character\n",
            "n is the character\n",
            "  is the character\n",
            "i is the character\n",
            "s is the character\n",
            "  is the character\n",
            "a is the character\n",
            "  is the character\n",
            "p is the character\n",
            "r is the character\n",
            "o is the character\n",
            "g is the character\n",
            "r is the character\n",
            "a is the character\n",
            "m is the character\n",
            "m is the character\n",
            "i is the character\n",
            "n is the character\n",
            "g is the character\n",
            "  is the character\n",
            "l is the character\n",
            "a is the character\n",
            "n is the character\n",
            "g is the character\n",
            "u is the character\n",
            "a is the character\n",
            "g is the character\n",
            "e is the character\n",
            "32\n"
          ]
        }
      ],
      "source": [
        "data=\"python is a programming language\"\n",
        "count=0\n",
        "for i in data:\n",
        "  print(i,'is the character')\n",
        "  count=count+1\n",
        "print(count)"
      ]
    },
    {
      "cell_type": "code",
      "execution_count": null,
      "id": "2c93d110-f733-41aa-ad14-70df9fad63c9",
      "metadata": {
        "id": "2c93d110-f733-41aa-ad14-70df9fad63c9",
        "colab": {
          "base_uri": "https://localhost:8080/"
        },
        "outputId": "f8dcaf66-ea4c-42b7-e2e8-3c26d2a8ad63"
      },
      "outputs": [
        {
          "output_type": "stream",
          "name": "stdout",
          "text": [
            "0\n",
            "p\n",
            "1\n",
            "y\n",
            "2\n",
            "t\n",
            "3\n",
            "h\n",
            "4\n",
            "o\n",
            "5\n",
            "n\n"
          ]
        }
      ],
      "source": [
        "data=\"python\"\n",
        "for i in range(len(data)):\n",
        "  print(i)\n",
        "  print(data[i])"
      ]
    },
    {
      "cell_type": "code",
      "execution_count": null,
      "id": "c7a27ea0-1054-4ede-b380-68792a9885a0",
      "metadata": {
        "id": "c7a27ea0-1054-4ede-b380-68792a9885a0"
      },
      "outputs": [],
      "source": []
    },
    {
      "cell_type": "code",
      "execution_count": null,
      "id": "3c743a56-aa5a-4c1e-ba07-33cf490b6ab7",
      "metadata": {
        "id": "3c743a56-aa5a-4c1e-ba07-33cf490b6ab7"
      },
      "outputs": [],
      "source": []
    },
    {
      "cell_type": "code",
      "execution_count": null,
      "id": "88b28122-6743-437b-8999-5d450c5bcb67",
      "metadata": {
        "id": "88b28122-6743-437b-8999-5d450c5bcb67"
      },
      "outputs": [],
      "source": []
    },
    {
      "cell_type": "raw",
      "id": "ae346447-7801-4488-8bed-d02f3eef4ade",
      "metadata": {
        "id": "ae346447-7801-4488-8bed-d02f3eef4ade"
      },
      "source": [
        "#fruits = [\"Apple\",\"Mango\",\"Grapes\",\"Kiwi','Cherry','Banana']\n",
        "# check \"cherry\" presents in fruits or not\n",
        "# if presents print \"Found\"\n",
        "# else \"Not Found\""
      ]
    },
    {
      "cell_type": "code",
      "execution_count": null,
      "id": "757435ad-c006-4e82-bc02-f042e5158a10",
      "metadata": {
        "id": "757435ad-c006-4e82-bc02-f042e5158a10",
        "colab": {
          "base_uri": "https://localhost:8080/"
        },
        "outputId": "bd8cf0df-0607-4257-a657-00cf4c707b29"
      },
      "outputs": [
        {
          "output_type": "stream",
          "name": "stdout",
          "text": [
            "not found\n",
            "not found\n",
            "not found\n",
            "not found\n",
            "found\n",
            "not found\n"
          ]
        }
      ],
      "source": [
        "fruits=['apple','mango','grapes','kiwi','cherry','banana']\n",
        "for i in fruits:\n",
        "  if (i=='cherry'):\n",
        "    print('found')\n",
        "  else:\n",
        "    print('not found')"
      ]
    },
    {
      "cell_type": "code",
      "execution_count": null,
      "id": "9bcb97db-8c01-4ce3-bdee-b8b6ede9450a",
      "metadata": {
        "id": "9bcb97db-8c01-4ce3-bdee-b8b6ede9450a"
      },
      "outputs": [],
      "source": []
    },
    {
      "cell_type": "code",
      "execution_count": null,
      "id": "92729747-2101-49f9-9bc2-5d91fbd6b1dd",
      "metadata": {
        "id": "92729747-2101-49f9-9bc2-5d91fbd6b1dd"
      },
      "outputs": [],
      "source": []
    },
    {
      "cell_type": "code",
      "execution_count": null,
      "id": "61b1e2bf-7348-4c9e-bbab-d88ccb6b0708",
      "metadata": {
        "id": "61b1e2bf-7348-4c9e-bbab-d88ccb6b0708"
      },
      "outputs": [],
      "source": []
    },
    {
      "cell_type": "code",
      "execution_count": null,
      "id": "165a998c-3913-41ac-91dc-2d31011cd167",
      "metadata": {
        "id": "165a998c-3913-41ac-91dc-2d31011cd167"
      },
      "outputs": [],
      "source": []
    },
    {
      "cell_type": "raw",
      "id": "3f984f50-638e-4447-923b-5f33ed0e823b",
      "metadata": {
        "id": "3f984f50-638e-4447-923b-5f33ed0e823b"
      },
      "source": [
        "# by taking user input\n",
        "#removing white spaces by using split() function\n",
        "#then iterate over the loop\n",
        "#I/P : I am an Indian\n",
        "\"\"\"\n",
        "o/p : I\n",
        "      am\n",
        "      an\n",
        "      Indian\n",
        "\"\"\"\n"
      ]
    },
    {
      "cell_type": "code",
      "execution_count": null,
      "id": "51f44a46-0a2c-4c39-b65c-a54963577357",
      "metadata": {
        "id": "51f44a46-0a2c-4c39-b65c-a54963577357",
        "colab": {
          "base_uri": "https://localhost:8080/"
        },
        "outputId": "25ce96ce-8137-4852-a974-243d9aade620"
      },
      "outputs": [
        {
          "output_type": "stream",
          "name": "stdout",
          "text": [
            "i\n",
            "['i', 'am', 'an', 'indian']\n",
            " \n",
            "['i', 'am', 'an', 'indian']\n",
            "a\n",
            "['i', 'am', 'an', 'indian']\n",
            "m\n",
            "['i', 'am', 'an', 'indian']\n",
            " \n",
            "['i', 'am', 'an', 'indian']\n",
            "a\n",
            "['i', 'am', 'an', 'indian']\n",
            "n\n",
            "['i', 'am', 'an', 'indian']\n",
            " \n",
            "['i', 'am', 'an', 'indian']\n",
            "i\n",
            "['i', 'am', 'an', 'indian']\n",
            "n\n",
            "['i', 'am', 'an', 'indian']\n",
            "d\n",
            "['i', 'am', 'an', 'indian']\n",
            "i\n",
            "['i', 'am', 'an', 'indian']\n",
            "a\n",
            "['i', 'am', 'an', 'indian']\n",
            "n\n",
            "['i', 'am', 'an', 'indian']\n"
          ]
        }
      ],
      "source": [
        "pallavi='i am an indian'\n",
        "for i in pallavi:\n",
        "  print(i)\n",
        "  print(pallavi.split(\" \"))"
      ]
    },
    {
      "cell_type": "code",
      "execution_count": null,
      "id": "bf70a520-f24a-421f-865d-c79bfe75c1a7",
      "metadata": {
        "id": "bf70a520-f24a-421f-865d-c79bfe75c1a7"
      },
      "outputs": [],
      "source": []
    },
    {
      "cell_type": "code",
      "execution_count": null,
      "id": "40ce32b0-04f2-40a6-be2e-571fb310f806",
      "metadata": {
        "id": "40ce32b0-04f2-40a6-be2e-571fb310f806"
      },
      "outputs": [],
      "source": []
    },
    {
      "cell_type": "raw",
      "id": "c3a84c15-8543-4efc-9e5d-433575f9c905",
      "metadata": {
        "id": "c3a84c15-8543-4efc-9e5d-433575f9c905"
      },
      "source": [
        "biggest among three numbers\n",
        "\n",
        "> Indented block\n",
        "\n",
        "\n",
        "num>0\n",
        "case1 : num1 >num2 and num3  num1 is greater\n",
        "case2 : num2>num1 and num3   num1 is greater\n",
        "case3 : num3 is greater than num1 nd num2\n",
        "cas4   : all are equal numbers\n",
        "num<0 it is a negative number"
      ]
    },
    {
      "cell_type": "code",
      "execution_count": null,
      "id": "f22ed56e-e192-4b09-807e-51810617ad83",
      "metadata": {
        "id": "f22ed56e-e192-4b09-807e-51810617ad83",
        "colab": {
          "base_uri": "https://localhost:8080/"
        },
        "outputId": "393030c3-ddb8-4805-e935-5b23ff52c7c7"
      },
      "outputs": [
        {
          "output_type": "stream",
          "name": "stdout",
          "text": [
            "-7\n",
            "-78\n",
            "67\n",
            "invalid\n"
          ]
        }
      ],
      "source": [
        "\n",
        "num1= int(input())\n",
        "num2= int(input())\n",
        "num3= int(input())\n",
        "\n",
        "if (num1<=0 or num2<=0 or num3<=0):\n",
        "  print('invalid')\n",
        "elif (num1>num2 and num1>num3):\n",
        "  print('num1 is a greater')\n",
        "elif (num2>num1 and num2>num3):\n",
        "  print('num2 is a greater')\n",
        "elif (num3>num1 and num3>num2):\n",
        "  print('num3 is a greater')\n",
        "elif (num1==num2==num3):\n",
        "  print('all are equal numbers')\n"
      ]
    },
    {
      "cell_type": "code",
      "execution_count": null,
      "id": "b44a344f-aab3-412d-b851-730a1d1ff359",
      "metadata": {
        "id": "b44a344f-aab3-412d-b851-730a1d1ff359"
      },
      "outputs": [],
      "source": []
    },
    {
      "cell_type": "code",
      "execution_count": null,
      "id": "f06afdb5-0d09-49ce-97f7-86e45a2ad0c9",
      "metadata": {
        "id": "f06afdb5-0d09-49ce-97f7-86e45a2ad0c9"
      },
      "outputs": [],
      "source": []
    },
    {
      "cell_type": "code",
      "execution_count": null,
      "id": "b694912b-f2b3-47a0-9b02-e1527e5873b2",
      "metadata": {
        "id": "b694912b-f2b3-47a0-9b02-e1527e5873b2"
      },
      "outputs": [],
      "source": []
    },
    {
      "cell_type": "code",
      "execution_count": null,
      "id": "bb8deb99-7eb2-44ae-9fac-8ae43bb3da7f",
      "metadata": {
        "id": "bb8deb99-7eb2-44ae-9fac-8ae43bb3da7f"
      },
      "outputs": [],
      "source": []
    },
    {
      "cell_type": "code",
      "execution_count": null,
      "id": "1525f157-8c3c-4db2-b06e-a6c648e28664",
      "metadata": {
        "id": "1525f157-8c3c-4db2-b06e-a6c648e28664"
      },
      "outputs": [],
      "source": []
    },
    {
      "cell_type": "code",
      "source": [],
      "metadata": {
        "id": "wWLppQv6OA1h"
      },
      "id": "wWLppQv6OA1h",
      "execution_count": null,
      "outputs": []
    },
    {
      "cell_type": "raw",
      "id": "239effe6-d822-4926-b381-ec36bf609c20",
      "metadata": {
        "id": "239effe6-d822-4926-b381-ec36bf609c20"
      },
      "source": [
        "# reverse the string by using slicing\n",
        "# python is very easy to learn"
      ]
    },
    {
      "cell_type": "code",
      "execution_count": null,
      "id": "1c307bbc-338e-4176-b3b9-7fdcc97b93f8",
      "metadata": {
        "id": "1c307bbc-338e-4176-b3b9-7fdcc97b93f8",
        "colab": {
          "base_uri": "https://localhost:8080/"
        },
        "outputId": "2895f916-0693-421a-c32b-d03078987911"
      },
      "outputs": [
        {
          "output_type": "stream",
          "name": "stdout",
          "text": [
            "['python', 'is', 'very', 'easy', 'to', 'learn']\n",
            "['python', 'is', 'very', 'easy', 'to', 'learn']\n",
            "['python', 'is', 'very', 'easy', 'to', 'learn']\n",
            "['python', 'is', 'very', 'easy', 'to', 'learn']\n",
            "['python', 'is', 'very', 'easy', 'to', 'learn']\n",
            "['python', 'is', 'very', 'easy', 'to', 'learn']\n",
            "['python', 'is', 'very', 'easy', 'to', 'learn']\n",
            "['python', 'is', 'very', 'easy', 'to', 'learn']\n",
            "['python', 'is', 'very', 'easy', 'to', 'learn']\n",
            "['python', 'is', 'very', 'easy', 'to', 'learn']\n",
            "['python', 'is', 'very', 'easy', 'to', 'learn']\n",
            "['python', 'is', 'very', 'easy', 'to', 'learn']\n",
            "['python', 'is', 'very', 'easy', 'to', 'learn']\n",
            "['python', 'is', 'very', 'easy', 'to', 'learn']\n",
            "['python', 'is', 'very', 'easy', 'to', 'learn']\n",
            "['python', 'is', 'very', 'easy', 'to', 'learn']\n",
            "['python', 'is', 'very', 'easy', 'to', 'learn']\n",
            "['python', 'is', 'very', 'easy', 'to', 'learn']\n",
            "['python', 'is', 'very', 'easy', 'to', 'learn']\n",
            "['python', 'is', 'very', 'easy', 'to', 'learn']\n",
            "['python', 'is', 'very', 'easy', 'to', 'learn']\n",
            "['python', 'is', 'very', 'easy', 'to', 'learn']\n",
            "['python', 'is', 'very', 'easy', 'to', 'learn']\n",
            "['python', 'is', 'very', 'easy', 'to', 'learn']\n",
            "['python', 'is', 'very', 'easy', 'to', 'learn']\n",
            "['python', 'is', 'very', 'easy', 'to', 'learn']\n",
            "['python', 'is', 'very', 'easy', 'to', 'learn']\n",
            "['python', 'is', 'very', 'easy', 'to', 'learn']\n",
            "1\n"
          ]
        }
      ],
      "source": [
        "numbers=\"python is very easy to learn\"\n",
        "for i in range(len(numbers),0,-1):\n",
        "  print(numbers.split(\" \"))\n",
        "print(i)"
      ]
    },
    {
      "cell_type": "code",
      "execution_count": null,
      "id": "f5811914-41b1-4903-b3dc-468e30341070",
      "metadata": {
        "id": "f5811914-41b1-4903-b3dc-468e30341070"
      },
      "outputs": [],
      "source": []
    },
    {
      "cell_type": "code",
      "execution_count": null,
      "id": "ff1693da-f840-42f3-81fa-800dfd0167b3",
      "metadata": {
        "id": "ff1693da-f840-42f3-81fa-800dfd0167b3"
      },
      "outputs": [],
      "source": []
    },
    {
      "cell_type": "code",
      "execution_count": null,
      "id": "3d3d68cb-33c3-43f7-8680-bda377618612",
      "metadata": {
        "id": "3d3d68cb-33c3-43f7-8680-bda377618612"
      },
      "outputs": [],
      "source": []
    },
    {
      "cell_type": "raw",
      "id": "a34be91b-e367-4c2e-9ae8-7d7555ef96a7",
      "metadata": {
        "id": "a34be91b-e367-4c2e-9ae8-7d7555ef96a7"
      },
      "source": [
        "Check if the first and last element of a list is the same"
      ]
    },
    {
      "cell_type": "code",
      "execution_count": null,
      "id": "e7457bce-df24-4b3f-9698-52f3dbfa8a95",
      "metadata": {
        "id": "e7457bce-df24-4b3f-9698-52f3dbfa8a95",
        "colab": {
          "base_uri": "https://localhost:8080/"
        },
        "outputId": "01a3056d-17f4-41e0-bdd5-1f57ef005a77"
      },
      "outputs": [
        {
          "output_type": "stream",
          "name": "stdout",
          "text": [
            "same\n"
          ]
        }
      ],
      "source": [
        "li=[0,-1]\n",
        "if (li==0,-1):\n",
        "  print('same')\n",
        "else:\n",
        "  print('not same')"
      ]
    },
    {
      "cell_type": "code",
      "execution_count": null,
      "id": "7245c09e-e800-4dc9-a3ce-aac8ff70c8c6",
      "metadata": {
        "id": "7245c09e-e800-4dc9-a3ce-aac8ff70c8c6"
      },
      "outputs": [],
      "source": []
    },
    {
      "cell_type": "code",
      "execution_count": null,
      "id": "8cd2cb9e-a4d2-4be1-9938-8dad50c82da8",
      "metadata": {
        "id": "8cd2cb9e-a4d2-4be1-9938-8dad50c82da8"
      },
      "outputs": [],
      "source": []
    },
    {
      "cell_type": "raw",
      "id": "01ac9032-4b2c-4b75-9e3c-0434f6ab3f60",
      "metadata": {
        "id": "01ac9032-4b2c-4b75-9e3c-0434f6ab3f60"
      },
      "source": [
        "Add 900000 in a list\n",
        "[10, 20, [300, 400, [5000, 6000], 500], 30, 40]\n",
        "#prints [500,6000]"
      ]
    },
    {
      "cell_type": "code",
      "execution_count": null,
      "id": "3a33d892-87db-4e02-9c86-4765c90f9097",
      "metadata": {
        "id": "3a33d892-87db-4e02-9c86-4765c90f9097",
        "colab": {
          "base_uri": "https://localhost:8080/"
        },
        "outputId": "21c161bf-5dde-4eb9-c529-82c44b0f11c3"
      },
      "outputs": [
        {
          "output_type": "stream",
          "name": "stdout",
          "text": [
            "None\n",
            "[10, 20, [300, 400, [5000, 6000], 500], 30, 40, 900000]\n"
          ]
        }
      ],
      "source": [
        "li=[10,20,[300,400,[5000,6000],500],30,40]\n",
        "print(li.append(900000))\n",
        "#print(li[2][2:3])\n",
        "print(li)\n"
      ]
    },
    {
      "cell_type": "code",
      "execution_count": null,
      "id": "47ade89c-1a55-4da4-b34b-b30a1e71a99a",
      "metadata": {
        "id": "47ade89c-1a55-4da4-b34b-b30a1e71a99a"
      },
      "outputs": [],
      "source": []
    },
    {
      "cell_type": "code",
      "execution_count": null,
      "id": "9e1ac1ba-de39-4de8-8d4e-9d671c5203fc",
      "metadata": {
        "id": "9e1ac1ba-de39-4de8-8d4e-9d671c5203fc"
      },
      "outputs": [],
      "source": []
    },
    {
      "cell_type": "code",
      "execution_count": null,
      "id": "c70d3a52-8594-4d16-8592-6602638964f5",
      "metadata": {
        "id": "c70d3a52-8594-4d16-8592-6602638964f5"
      },
      "outputs": [],
      "source": []
    },
    {
      "cell_type": "code",
      "execution_count": null,
      "id": "1edab44e-3bc8-4d77-97d5-e9e3ef511cce",
      "metadata": {
        "id": "1edab44e-3bc8-4d77-97d5-e9e3ef511cce"
      },
      "outputs": [],
      "source": []
    },
    {
      "cell_type": "code",
      "execution_count": null,
      "id": "1366fc6c-1a7c-40e0-b509-ab6b3d0775e5",
      "metadata": {
        "id": "1366fc6c-1a7c-40e0-b509-ab6b3d0775e5"
      },
      "outputs": [],
      "source": []
    }
  ],
  "metadata": {
    "kernelspec": {
      "display_name": "Python 3 (ipykernel)",
      "language": "python",
      "name": "python3"
    },
    "language_info": {
      "codemirror_mode": {
        "name": "ipython",
        "version": 3
      },
      "file_extension": ".py",
      "mimetype": "text/x-python",
      "name": "python",
      "nbconvert_exporter": "python",
      "pygments_lexer": "ipython3",
      "version": "3.12.2"
    },
    "colab": {
      "provenance": [],
      "include_colab_link": true
    }
  },
  "nbformat": 4,
  "nbformat_minor": 5
}