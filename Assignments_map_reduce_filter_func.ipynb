{
  "nbformat": 4,
  "nbformat_minor": 0,
  "metadata": {
    "colab": {
      "provenance": [],
      "collapsed_sections": [
        "wjCyRNaOi7md",
        "xTjC4d_HV8xe",
        "8dcRyvZk-OhH"
      ],
      "authorship_tag": "ABX9TyOi9lLNA4hjTrAD0ot7i2tK",
      "include_colab_link": true
    },
    "kernelspec": {
      "name": "python3",
      "display_name": "Python 3"
    },
    "language_info": {
      "name": "python"
    }
  },
  "cells": [
    {
      "cell_type": "markdown",
      "metadata": {
        "id": "view-in-github",
        "colab_type": "text"
      },
      "source": [
        "<a href=\"https://colab.research.google.com/github/pallavi160425/python_mini_tasks/blob/main/Assignments_map_reduce_filter_func.ipynb\" target=\"_parent\"><img src=\"https://colab.research.google.com/assets/colab-badge.svg\" alt=\"Open In Colab\"/></a>"
      ]
    },
    {
      "cell_type": "markdown",
      "source": [
        "#assignment 1"
      ],
      "metadata": {
        "id": "wjCyRNaOi7md"
      }
    },
    {
      "cell_type": "code",
      "source": [
        "items1=list(map(int,input().split()))\n",
        "items1"
      ],
      "metadata": {
        "colab": {
          "base_uri": "https://localhost:8080/"
        },
        "id": "00yUeMc3jFKj",
        "outputId": "25ce0574-6fbe-4804-f315-6677a2e5afc8"
      },
      "execution_count": null,
      "outputs": [
        {
          "name": "stdout",
          "output_type": "stream",
          "text": [
            "7 8 9 6 \n"
          ]
        },
        {
          "output_type": "execute_result",
          "data": {
            "text/plain": [
              "[7, 8, 9, 6]"
            ]
          },
          "metadata": {},
          "execution_count": 6
        }
      ]
    },
    {
      "cell_type": "code",
      "source": [
        "\n",
        "def restaurant(*val):\n",
        "  total=0\n",
        "  for i in val:\n",
        "    print(i)\n",
        "    if i <= 0:\n",
        "      print(\"invalid\")\n",
        "    else:\n",
        "      total=total+i\n",
        "  #return total\n",
        "\n",
        "  service_charge= (5/100) *total\n",
        "  tax  = 10/100*total\n",
        "  final_bill= total + service_charge + tax\n",
        "  return final_bill\n",
        "\n"
      ],
      "metadata": {
        "id": "I4VjQvhfjHXA"
      },
      "execution_count": null,
      "outputs": []
    },
    {
      "cell_type": "code",
      "source": [
        "total = 0\n",
        "for i in items1:\n",
        "  print(i)\n",
        "  if i <= 0:\n",
        "    print(\"invalid\")\n",
        "  else:\n",
        "    total=total+i\n",
        "print(total)"
      ],
      "metadata": {
        "id": "DH66AzN8t0T5"
      },
      "execution_count": null,
      "outputs": []
    },
    {
      "cell_type": "code",
      "source": [
        "print(restaurant(*items1))\n",
        "\n"
      ],
      "metadata": {
        "id": "e4e6U8-Dsyb6"
      },
      "execution_count": null,
      "outputs": []
    },
    {
      "cell_type": "code",
      "source": [
        "m=list(map(int,input().split()))\n",
        "m"
      ],
      "metadata": {
        "id": "afmhr4Qt7xKG"
      },
      "execution_count": null,
      "outputs": []
    },
    {
      "cell_type": "code",
      "source": [
        "def shopping_mall(*items2):\n",
        "  total=0\n",
        "  for i in items2:\n",
        "    print(i)\n",
        "    if i<=0:\n",
        "      print(\"invalid\")\n",
        "    else:\n",
        "      total=total+i\n",
        "  service_charge=25/100*total\n",
        "  GST = 15/100*total\n",
        "  final_rate=total+service_charge+GST\n",
        "  return final_rate"
      ],
      "metadata": {
        "id": "A586nrWc7x34"
      },
      "execution_count": null,
      "outputs": []
    },
    {
      "cell_type": "code",
      "source": [
        "print(shopping_mall(*m))"
      ],
      "metadata": {
        "id": "Ziu8J1SJV4BJ"
      },
      "execution_count": null,
      "outputs": []
    },
    {
      "cell_type": "markdown",
      "source": [
        "# assignment 2"
      ],
      "metadata": {
        "id": "xTjC4d_HV8xe"
      }
    },
    {
      "cell_type": "code",
      "source": [
        "def employDetails(name, **details):  #  **kwargs\n",
        "\n",
        "  print(type(details))\n",
        "  print(details.items())\n",
        "  for key, value in details.items():\n",
        "    print(key, \" as key\")\n",
        "    print(value,\" as value\")\n",
        "\n",
        "  return \"these are the employee deatails\""
      ],
      "metadata": {
        "id": "kECNs8pGkFxj"
      },
      "execution_count": null,
      "outputs": []
    },
    {
      "cell_type": "code",
      "source": [
        "def fun(name,**marks):\n",
        "  sum=0\n",
        "  for key,value in marks.items():\n",
        "    print (\"{} get a {} marks in {}\".format(name,value,key))\n",
        "    if value>=0:\n",
        "      sum=sum+value\n",
        "\n",
        "    else:\n",
        "      print(\"Invalid data entry, kindly check ur data for {} subject which u got {} marks\".format(key, value))\n",
        "  print(sum,\"total marks\")\n",
        "  percentage=sum/600*100\n",
        "  print(percentage, \"total percentage\")\n",
        "  if percentage>=90:\n",
        "    print(\"get a A+ grade in exams\")\n",
        "  elif percentage>=80 and percentage<90:\n",
        "    print(\"get a A grade in exams\")\n",
        "  elif percentage>=70 and percentage<80:\n",
        "    print(\"get a B+ grade in exams\")\n",
        "  elif percentage>=60 and percentage<70:\n",
        "    print(\"get a B grade in exams\")\n",
        "  elif percentage>=50 and percentage<60:\n",
        "    print(\"get a C grade in exams\")\n",
        "  elif percentage>=40 and percentage<50:\n",
        "      print(\"get a D grade in exams\")\n",
        "  elif percentage>=30 and percentage<40:\n",
        "      print(\"get a E grade in exams\")\n",
        "  elif percentage>=0 and percentage<30:\n",
        "      print(\"failed in exams\")\n",
        "  else:\n",
        "    print(\"invalid\")\n",
        "\n",
        "\n",
        "\n"
      ],
      "metadata": {
        "id": "t5g693ZMc4OY"
      },
      "execution_count": null,
      "outputs": []
    },
    {
      "cell_type": "code",
      "source": [
        "fun(name=\"ramesh\",eng=87,tel=76,mat=47,hin=89,science=67,social=80)"
      ],
      "metadata": {
        "id": "pwgIIjsEc4Lg",
        "colab": {
          "base_uri": "https://localhost:8080/"
        },
        "outputId": "a5139d9d-9e2d-47a6-feba-342a18022935"
      },
      "execution_count": null,
      "outputs": [
        {
          "output_type": "stream",
          "name": "stdout",
          "text": [
            "ramesh get a 87 marks in eng\n",
            "ramesh get a 76 marks in tel\n",
            "ramesh get a 47 marks in mat\n",
            "ramesh get a 89 marks in hin\n",
            "ramesh get a 67 marks in science\n",
            "ramesh get a 80 marks in social\n",
            "446 total marks\n",
            "74.33333333333333 total percentage\n",
            "get a B+ grade in exams\n"
          ]
        }
      ]
    },
    {
      "cell_type": "code",
      "source": [
        "fun(name=\"pallavi\",eng=80,tel=95,mat=90,hin=85,science=75,social=82)"
      ],
      "metadata": {
        "id": "BQaE9rlSyp0f",
        "colab": {
          "base_uri": "https://localhost:8080/"
        },
        "outputId": "eed2a110-380a-4a79-8f8d-f3559e77cddd"
      },
      "execution_count": null,
      "outputs": [
        {
          "output_type": "stream",
          "name": "stdout",
          "text": [
            "pallavi get a 80 marks in eng\n",
            "pallavi get a 95 marks in tel\n",
            "pallavi get a 90 marks in mat\n",
            "pallavi get a 85 marks in hin\n",
            "pallavi get a 75 marks in science\n",
            "pallavi get a 82 marks in social\n",
            "507 total marks\n",
            "84.5 total percentage\n",
            "get a A grade in exams\n"
          ]
        }
      ]
    },
    {
      "cell_type": "code",
      "source": [
        "fun(name=\"asha\",eng=-6,tel=56,mat=0,hin=-6,science=7,social=55)"
      ],
      "metadata": {
        "id": "xOc01u88W0dD",
        "colab": {
          "base_uri": "https://localhost:8080/"
        },
        "outputId": "3105f750-a2ff-4780-dd55-a5314bc249b1"
      },
      "execution_count": null,
      "outputs": [
        {
          "output_type": "stream",
          "name": "stdout",
          "text": [
            "asha get a -6 marks in eng\n",
            "Invalid data entry, kindly check ur data for eng subject which u got -6 marks\n",
            "asha get a 56 marks in tel\n",
            "asha get a 0 marks in mat\n",
            "asha get a -6 marks in hin\n",
            "Invalid data entry, kindly check ur data for hin subject which u got -6 marks\n",
            "asha get a 7 marks in science\n",
            "asha get a 55 marks in social\n",
            "118 total marks\n",
            "19.666666666666664 total percentage\n",
            "failed in exams\n"
          ]
        }
      ]
    },
    {
      "cell_type": "code",
      "source": [
        "fun(name=\"vinay\",eng=0,tei=0,mat=0,hin=0,science=0,social=0)"
      ],
      "metadata": {
        "id": "F0xn9RYuW0aM",
        "colab": {
          "base_uri": "https://localhost:8080/"
        },
        "outputId": "90525c7f-5fe3-4ee3-a7ba-d4842a8f2311"
      },
      "execution_count": null,
      "outputs": [
        {
          "output_type": "stream",
          "name": "stdout",
          "text": [
            "vinay get a 0 marks in eng\n",
            "vinay get a 0 marks in tei\n",
            "vinay get a 0 marks in mat\n",
            "vinay get a 0 marks in hin\n",
            "vinay get a 0 marks in science\n",
            "vinay get a 0 marks in social\n",
            "0 total marks\n",
            "0.0 total percentage\n",
            "failed in exams\n"
          ]
        }
      ]
    },
    {
      "cell_type": "code",
      "source": [],
      "metadata": {
        "id": "bbWYRP3I-Mgf"
      },
      "execution_count": null,
      "outputs": []
    },
    {
      "cell_type": "markdown",
      "source": [
        "# assignment 3"
      ],
      "metadata": {
        "id": "8dcRyvZk-OhH"
      }
    },
    {
      "cell_type": "code",
      "source": [
        "stock={\"laptop\":20,\"shoes\":15,\"bags\":25,\"mobile\":10,\"watches\":12,\"earphones\":8,\"football\":6,\"cricket_bat\":9,\"cricket balls\":25,\"mobile charger\":5,\"laptop charger\":10}\n",
        "\n",
        "user_needs  = {\"bags\":5,\"mobile\":1,\"mobile charger\":2 , \"fans\":10}\n",
        "prices={\"bags\":800,\"mobile\":30000,\"mobile charger\":400}\n",
        "\n",
        "for key,value in user_needs.items():\n",
        "  #print(key, \"as key\")\n",
        "  #print(value,\"as value\")\n",
        "  #print(key, stock[key])\n",
        "  if key in stock:\n",
        "    print(key, stock[key], \"exists\")\n",
        "    #print(key,user_needs[key])\n",
        "    if stock[key]>user_needs[key]:\n",
        "      print(key,value)\n",
        "      if key in prices:\n",
        "        total_price=prices[key]*value\n",
        "        print(total_price, \"is a total price\")\n",
        "        discount=10/100*total_price\n",
        "        print(discount,\"disciount\")\n",
        "        final_price=total_price-discount\n",
        "        print(final_price,\"final amount to be paid\")\n",
        "\n",
        "\n",
        "\n",
        "\n",
        "\n",
        "\n"
      ],
      "metadata": {
        "id": "UUVuGg19-Mdn",
        "colab": {
          "base_uri": "https://localhost:8080/"
        },
        "outputId": "e49705ae-9ead-4a8d-83a0-5c6f32c03fcd"
      },
      "execution_count": null,
      "outputs": [
        {
          "output_type": "stream",
          "name": "stdout",
          "text": [
            "bags 25 exists\n",
            "bags 5\n",
            "4000 is a total price\n",
            "400.0 disciount\n",
            "3600.0 final amount to be paid\n",
            "mobile 10 exists\n",
            "mobile 1\n",
            "30000 is a total price\n",
            "3000.0 disciount\n",
            "27000.0 final amount to be paid\n",
            "mobile charger 5 exists\n",
            "mobile charger 2\n",
            "800 is a total price\n",
            "80.0 disciount\n",
            "720.0 final amount to be paid\n"
          ]
        }
      ]
    },
    {
      "cell_type": "code",
      "source": [],
      "metadata": {
        "id": "tuFhjrf3-ME1"
      },
      "execution_count": null,
      "outputs": []
    },
    {
      "cell_type": "code",
      "source": [],
      "metadata": {
        "id": "WIcLhnlu-MB_"
      },
      "execution_count": null,
      "outputs": []
    },
    {
      "cell_type": "markdown",
      "source": [
        "# NUmber guessing game"
      ],
      "metadata": {
        "id": "iBGgJZ1EKYQe"
      }
    },
    {
      "cell_type": "code",
      "source": [
        "import random"
      ],
      "metadata": {
        "id": "N1ku93PIKdY8"
      },
      "execution_count": null,
      "outputs": []
    },
    {
      "cell_type": "code",
      "source": [
        "while True:\n",
        "  num =  random.randint(1,15)\n",
        "  print(num)\n",
        "  count = 0\n",
        "\n",
        "  for i in range(3):\n",
        "    user_input=int(input(\"enter a value in 1 to 15:  \" ))\n",
        "    #print(user_input)\n",
        "\n",
        "    if (user_input==num):\n",
        "      print(\" you won the game\")\n",
        "      game=input(\"do you want play this game:\")\n",
        "      break\n",
        "\n",
        "    else:\n",
        "      count += 1\n",
        "\n",
        "\n",
        "  if count == 3:\n",
        "      print(\"you loss the game\")\n",
        "      game=input(\"do you want play this game again:\")\n",
        "\n",
        "  if (game == 'yes'):\n",
        "    print(\"you decided to play this game\")\n",
        "  else:\n",
        "    print(\"you dont want to play this game\")\n",
        "    break\n",
        "\n",
        "\n",
        "\n",
        "\n",
        "\n",
        "\n"
      ],
      "metadata": {
        "colab": {
          "base_uri": "https://localhost:8080/"
        },
        "id": "eLVRuep5Kda9",
        "outputId": "92721fa9-3d48-4482-d116-d938abe45a7c"
      },
      "execution_count": null,
      "outputs": [
        {
          "output_type": "stream",
          "name": "stdout",
          "text": [
            "7\n",
            "enter a value in 1 to 15:  6\n",
            "enter a value in 1 to 15:  4\n",
            "enter a value in 1 to 15:  2\n",
            "you loss the game\n",
            "do you want play this game again:yes\n",
            "you decided to play this game\n",
            "9\n",
            "enter a value in 1 to 15:  5\n",
            "enter a value in 1 to 15:  9\n",
            " you won the game\n",
            "do you want play this game:no\n",
            "you dont want to play this game\n"
          ]
        }
      ]
    },
    {
      "cell_type": "code",
      "source": [
        "\n"
      ],
      "metadata": {
        "id": "SAwzqApM0_d0"
      },
      "execution_count": null,
      "outputs": []
    },
    {
      "cell_type": "code",
      "source": [
        "for i in range(3):\n",
        "  user_input=int(input(\"enter a value in 1 to 15:  \" ))\n",
        "  print(user_input)"
      ],
      "metadata": {
        "id": "W-vnNTLZq643"
      },
      "execution_count": null,
      "outputs": []
    },
    {
      "cell_type": "code",
      "source": [
        "def f():\n",
        "  pass\n",
        "print(type(f()))\n"
      ],
      "metadata": {
        "id": "gorXsan2Kdfg"
      },
      "execution_count": null,
      "outputs": []
    },
    {
      "cell_type": "code",
      "source": [],
      "metadata": {
        "id": "ihdSsf0hKdi6"
      },
      "execution_count": null,
      "outputs": []
    },
    {
      "cell_type": "code",
      "source": [],
      "metadata": {
        "id": "f0aTuqNIKb5-"
      },
      "execution_count": null,
      "outputs": []
    },
    {
      "cell_type": "markdown",
      "source": [
        "# words to num"
      ],
      "metadata": {
        "id": "R--CQ2zxZkMT"
      }
    },
    {
      "cell_type": "code",
      "source": [
        "!pip install word2number\n"
      ],
      "metadata": {
        "id": "7Qtb4QVuZvk0",
        "colab": {
          "base_uri": "https://localhost:8080/"
        },
        "outputId": "de66f542-397c-416e-980c-7a0fb2f553e6"
      },
      "execution_count": null,
      "outputs": [
        {
          "output_type": "stream",
          "name": "stdout",
          "text": [
            "Collecting word2number\n",
            "  Downloading word2number-1.1.zip (9.7 kB)\n",
            "  Preparing metadata (setup.py) ... \u001b[?25l\u001b[?25hdone\n",
            "Building wheels for collected packages: word2number\n",
            "  Building wheel for word2number (setup.py) ... \u001b[?25l\u001b[?25hdone\n",
            "  Created wheel for word2number: filename=word2number-1.1-py3-none-any.whl size=5568 sha256=5b2a93c75ee943b393a2f57b1bd4991e3eacd7a4ec3d7d868c22ac7a95383a10\n",
            "  Stored in directory: /root/.cache/pip/wheels/cd/ef/ae/073b491b14d25e2efafcffca9e16b2ee6d114ec5c643ba4f06\n",
            "Successfully built word2number\n",
            "Installing collected packages: word2number\n",
            "Successfully installed word2number-1.1\n"
          ]
        }
      ]
    },
    {
      "cell_type": "code",
      "source": [
        "from word2number import w2n\n"
      ],
      "metadata": {
        "id": "rN8JkOox4VKz"
      },
      "execution_count": null,
      "outputs": []
    },
    {
      "cell_type": "code",
      "source": [
        "input_1=\"seven hundred ninety five\"\n",
        "output_1=w2n.word_to_num(input_1)\n",
        "print(output_1)\n",
        "input_2=\"one million five thousand five hundred sixty nine\"\n",
        "output_2=w2n.word_to_num(input_2)\n",
        "print(output_2)"
      ],
      "metadata": {
        "id": "WZcQQh2Y4Tmq",
        "colab": {
          "base_uri": "https://localhost:8080/"
        },
        "outputId": "456c8011-b3d3-44b1-ef80-e3e7f7d18c95"
      },
      "execution_count": null,
      "outputs": [
        {
          "output_type": "stream",
          "name": "stdout",
          "text": [
            "795\n",
            "1005569\n"
          ]
        }
      ]
    },
    {
      "cell_type": "code",
      "source": [
        "input3=\"five thousand two hundred twenty five\"\n",
        "output3=w2n.word_to_num(input3)\n",
        "print(output3)"
      ],
      "metadata": {
        "colab": {
          "base_uri": "https://localhost:8080/"
        },
        "id": "6Qnrv2rJyjWP",
        "outputId": "e947dc48-999a-4ee1-9785-757d63d2123c"
      },
      "execution_count": 52,
      "outputs": [
        {
          "output_type": "stream",
          "name": "stdout",
          "text": [
            "5225\n"
          ]
        }
      ]
    },
    {
      "cell_type": "code",
      "source": [
        "run1=\"three hundred  thousand nine hundred\"\n",
        "output4=w2n.word_to_num(run1)\n",
        "print(output4)"
      ],
      "metadata": {
        "colab": {
          "base_uri": "https://localhost:8080/"
        },
        "id": "pTXvmdwazMEx",
        "outputId": "d2825eba-202d-434e-ff58-d0020cc12198"
      },
      "execution_count": 64,
      "outputs": [
        {
          "output_type": "stream",
          "name": "stdout",
          "text": [
            "300900\n"
          ]
        }
      ]
    },
    {
      "cell_type": "code",
      "source": [],
      "metadata": {
        "id": "a32v6EgGyhdr"
      },
      "execution_count": 67,
      "outputs": []
    },
    {
      "cell_type": "code",
      "source": [],
      "metadata": {
        "id": "OXgCONf1Aem8"
      },
      "execution_count": null,
      "outputs": []
    }
  ]
}