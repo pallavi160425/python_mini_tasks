{
  "nbformat": 4,
  "nbformat_minor": 0,
  "metadata": {
    "colab": {
      "provenance": [],
      "authorship_tag": "ABX9TyPKDvEKjrsOGBzW3FzQHIgf",
      "include_colab_link": true
    },
    "kernelspec": {
      "name": "python3",
      "display_name": "Python 3"
    },
    "language_info": {
      "name": "python"
    }
  },
  "cells": [
    {
      "cell_type": "markdown",
      "metadata": {
        "id": "view-in-github",
        "colab_type": "text"
      },
      "source": [
        "<a href=\"https://colab.research.google.com/github/pallavi160425/python_mini_tasks/blob/main/new_tricks.ipynb\" target=\"_parent\"><img src=\"https://colab.research.google.com/assets/colab-badge.svg\" alt=\"Open In Colab\"/></a>"
      ]
    },
    {
      "cell_type": "code",
      "execution_count": null,
      "metadata": {
        "id": "v8birW4ID4y1"
      },
      "outputs": [],
      "source": [
        "import random"
      ]
    },
    {
      "cell_type": "markdown",
      "source": [
        "# dice game"
      ],
      "metadata": {
        "id": "3b7lFuo8EiJk"
      }
    },
    {
      "cell_type": "code",
      "source": [
        "while True:\n",
        "  num=random.randint(3,21)  # ikkada dice lo 1 to 6 nums ni add chesthey 21 vasthundhi.adhi fixed value.\n",
        "                            #taruvatha 3 times manam dice veyali.aa 3 values ni add chesthey vachhina value random value kanna ekkuva ga unte game win avutharu\n",
        "\n",
        "  print(num)\n",
        "\n",
        "  sum=0\n",
        "  for i in range(3):\n",
        "    val=random.randint(1,6)   #ikkada inko random val tisukovali.endhukante dice game lo a num paduthundho correct ga chpalemu\n",
        "                              #manamu 3 times dice veyali so for loop use cheyyali\n",
        "    print(val,\"ko\")\n",
        "    sum=sum+val\n",
        "  print(sum)\n",
        "\n",
        "\n",
        "  if (sum>num):\n",
        "    print(\"you won the game\")\n",
        "    user_input=input(\"do you want play this game:\")  # ikkada game win iyina taruvatha aduguthamu malli game aaduthava ledha ani\n",
        "\n",
        "\n",
        "  else:\n",
        "    print(\"you loss the game\")\n",
        "    user_input=input(\"do you want play this game: \")  #ikkada game loss iyina taruvatha aduguthamu malli aaduthava ledha ani\n",
        "\n",
        "\n",
        "  if (user_input==\"yes\"): #oka vela 'yes' ante game continue avuthundhi\n",
        "    continue\n",
        "  else:                   #oka vela 'no' ante game break avuthundhi.ante aagipothundhi\n",
        "    break\n",
        "\n",
        "\n",
        "\n",
        "\n",
        "\n",
        "\n"
      ],
      "metadata": {
        "colab": {
          "base_uri": "https://localhost:8080/"
        },
        "id": "-DV1q25ID5wN",
        "outputId": "176a4487-be84-4594-b235-6692c28bbfd5"
      },
      "execution_count": null,
      "outputs": [
        {
          "name": "stdout",
          "output_type": "stream",
          "text": [
            "3\n",
            "6 ko\n",
            "5 ko\n",
            "4 ko\n",
            "15\n",
            "you won the game\n",
            "do you want play this game:yes\n",
            "10\n",
            "2 ko\n",
            "4 ko\n",
            "4 ko\n",
            "10\n",
            "you loss the game\n",
            "do you want play this game: no\n"
          ]
        }
      ]
    },
    {
      "cell_type": "code",
      "source": [],
      "metadata": {
        "id": "gYmxwxbUD5yS"
      },
      "execution_count": null,
      "outputs": []
    },
    {
      "cell_type": "markdown",
      "source": [
        "# calculator"
      ],
      "metadata": {
        "id": "09D9f8OeBNJM"
      }
    },
    {
      "cell_type": "code",
      "source": [
        "li=list(map(int,input().split()))\n",
        "li\n"
      ],
      "metadata": {
        "id": "qxLZjdQvD51L",
        "colab": {
          "base_uri": "https://localhost:8080/"
        },
        "outputId": "02d549e3-6c49-41c2-e371-29fa15d0bd1e"
      },
      "execution_count": null,
      "outputs": [
        {
          "name": "stdout",
          "output_type": "stream",
          "text": [
            "6 7 8 9 \n"
          ]
        },
        {
          "output_type": "execute_result",
          "data": {
            "text/plain": [
              "[6, 7, 8, 9]"
            ]
          },
          "metadata": {},
          "execution_count": 2
        }
      ]
    },
    {
      "cell_type": "code",
      "source": [
        "print(\"option 1 addition\")\n",
        "print(\"option 2 substraction\")\n",
        "print(\"option 3 division\")\n",
        "print(\"option 4 multiply\")\n",
        "operation=input(\" enter any operation you want:\")\n",
        "def calculator(*num):\n",
        "  add=num[0]\n",
        "  multiply=num[0]\n",
        "  sub=num[0]\n",
        "  divide=num[0]\n",
        "  for i in range(1,len(num)):\n",
        "    if (operation==\"1\"):\n",
        "      add=add+num[i]\n",
        "      print(add)\n",
        "    elif (operation==\"4\"):\n",
        "      multiply=multiply*num[i]\n",
        "      print(multiply)\n",
        "    elif (operation==\"2\"):\n",
        "      sub=sub-num[i]\n",
        "      print(sub)\n",
        "    elif (operation==\"3\"):\n",
        "      divide=divide/num[i]\n",
        "      print(divide)\n",
        "\n",
        "\n",
        "\n",
        "\n"
      ],
      "metadata": {
        "id": "tc7DGTQvD54y",
        "colab": {
          "base_uri": "https://localhost:8080/"
        },
        "outputId": "56b6615a-d2be-42f8-d906-d720860750fb"
      },
      "execution_count": null,
      "outputs": [
        {
          "name": "stdout",
          "output_type": "stream",
          "text": [
            "option 1 addition\n",
            "option 2 substraction\n",
            "option 3 division\n",
            "option 4 multiply\n",
            " enter any operation you want:3\n"
          ]
        }
      ]
    },
    {
      "cell_type": "code",
      "source": [
        "print(calculator(6,7))"
      ],
      "metadata": {
        "colab": {
          "base_uri": "https://localhost:8080/"
        },
        "id": "Ei1yW14VGOYH",
        "outputId": "ed0157b7-5785-4f24-b29b-70007ed3bdf6"
      },
      "execution_count": null,
      "outputs": [
        {
          "output_type": "stream",
          "name": "stdout",
          "text": [
            "0.8571428571428571\n",
            "None\n"
          ]
        }
      ]
    },
    {
      "cell_type": "code",
      "source": [
        "calculator(10,5,3)"
      ],
      "metadata": {
        "colab": {
          "base_uri": "https://localhost:8080/"
        },
        "id": "44ZI_8DNHFeX",
        "outputId": "7549e227-361c-4455-e3e9-bc74e12e0845"
      },
      "execution_count": null,
      "outputs": [
        {
          "output_type": "stream",
          "name": "stdout",
          "text": [
            "2.0\n",
            "0.6666666666666666\n"
          ]
        }
      ]
    },
    {
      "cell_type": "code",
      "source": [
        "calculator(15,2,5)"
      ],
      "metadata": {
        "id": "rr6Dkyw4ZGW6",
        "colab": {
          "base_uri": "https://localhost:8080/"
        },
        "outputId": "1a143620-09b7-4984-ff04-904dae84f9de"
      },
      "execution_count": null,
      "outputs": [
        {
          "output_type": "stream",
          "name": "stdout",
          "text": [
            "7.5\n",
            "1.5\n"
          ]
        }
      ]
    },
    {
      "cell_type": "markdown",
      "source": [
        "\n",
        "add,sub,multiple,division\n"
      ],
      "metadata": {
        "id": "oUr74F83bW1x"
      }
    },
    {
      "cell_type": "code",
      "source": [
        "def calculator(*val):\n",
        "   add=val[0]\n",
        "   sub=val[0]\n",
        "   multiple=val[0]\n",
        "   divide=val[0]\n",
        "   for i in range(1,len(val)):\n",
        "    add=add+val[i]\n",
        "    sub=sub-val[i]\n",
        "    multiple=multiple*val[i]\n",
        "    divide=divide/val[i]\n",
        "   return add,sub,multiple,divide"
      ],
      "metadata": {
        "id": "yse5i5vDZGUC"
      },
      "execution_count": null,
      "outputs": []
    },
    {
      "cell_type": "code",
      "source": [
        "calculator(8,9,35,78)\n"
      ],
      "metadata": {
        "id": "g3QUkERqHFbc",
        "colab": {
          "base_uri": "https://localhost:8080/"
        },
        "outputId": "dd8f9e82-0a2c-45a1-935a-9863ba813edf"
      },
      "execution_count": null,
      "outputs": [
        {
          "output_type": "execute_result",
          "data": {
            "text/plain": [
              "(130, -114, 196560, 0.0003256003256003256)"
            ]
          },
          "metadata": {},
          "execution_count": 41
        }
      ]
    },
    {
      "cell_type": "code",
      "source": [
        "li=list(map(int,input().split()))\n",
        "li"
      ],
      "metadata": {
        "colab": {
          "base_uri": "https://localhost:8080/"
        },
        "id": "AL2rJQ6VkMr_",
        "outputId": "43761530-af27-4261-f08f-b31ba3358b9f"
      },
      "execution_count": null,
      "outputs": [
        {
          "name": "stdout",
          "output_type": "stream",
          "text": [
            "5 6\n"
          ]
        },
        {
          "output_type": "execute_result",
          "data": {
            "text/plain": [
              "[5, 6]"
            ]
          },
          "metadata": {},
          "execution_count": 44
        }
      ]
    },
    {
      "cell_type": "code",
      "source": [
        "calculator(*li)"
      ],
      "metadata": {
        "colab": {
          "base_uri": "https://localhost:8080/"
        },
        "id": "yZW3RHrwkWN-",
        "outputId": "4b674cd3-e2ea-4eb1-9be8-3e47d129167d"
      },
      "execution_count": null,
      "outputs": [
        {
          "output_type": "execute_result",
          "data": {
            "text/plain": [
              "(11, -1, 30, 0.8333333333333334)"
            ]
          },
          "metadata": {},
          "execution_count": 48
        }
      ]
    },
    {
      "cell_type": "code",
      "source": [
        "calculator(6,5,2,1,8)"
      ],
      "metadata": {
        "id": "qCzfxh9pk4KQ",
        "outputId": "8ce74871-09f1-4acf-fe03-572cc6d4bf6a",
        "colab": {
          "base_uri": "https://localhost:8080/"
        }
      },
      "execution_count": null,
      "outputs": [
        {
          "output_type": "execute_result",
          "data": {
            "text/plain": [
              "(22, -10, 480, 0.075)"
            ]
          },
          "metadata": {},
          "execution_count": 49
        }
      ]
    },
    {
      "cell_type": "code",
      "source": [],
      "metadata": {
        "id": "oPfL12B9wSdt"
      },
      "execution_count": 53,
      "outputs": []
    },
    {
      "cell_type": "code",
      "source": [],
      "metadata": {
        "id": "yW_FVnv9x6Mu"
      },
      "execution_count": 52,
      "outputs": []
    }
  ]
}